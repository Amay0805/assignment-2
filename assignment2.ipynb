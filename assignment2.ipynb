{
 "cells": [
  {
   "cell_type": "code",
   "execution_count": null,
   "id": "2dd938cb-e249-4134-a8fe-8e63dcf1b5d0",
   "metadata": {},
   "outputs": [],
   "source": [
    "#string"
   ]
  },
  {
   "cell_type": "code",
   "execution_count": null,
   "id": "b11c3b93-011e-4114-812b-086a0fdf564a",
   "metadata": {},
   "outputs": [],
   "source": [
    "#1\n",
    "str=input(\"enter a string: \")\n",
    "print(str[-1::-1])"
   ]
  },
  {
   "cell_type": "code",
   "execution_count": null,
   "id": "f558bc70-b479-400e-b826-389ddb4fa179",
   "metadata": {},
   "outputs": [],
   "source": [
    "#2\n",
    "str=input(\"enter a string: \")\n",
    "if str==str[-1::-1]:\n",
    "    print(\"The given string is a palindrome\")\n",
    "else:\n",
    "    print(\"The given string is not a palindrome\")"
   ]
  },
  {
   "cell_type": "code",
   "execution_count": null,
   "id": "35757885-ca8f-4e75-ac26-277f1df3f0df",
   "metadata": {},
   "outputs": [],
   "source": [
    "#3\n",
    "input_str=input(\"Enter the string: \")\n",
    "print(input_str.upper())"
   ]
  },
  {
   "cell_type": "code",
   "execution_count": null,
   "id": "d9390bdd-282b-444d-9eb6-995de1459cad",
   "metadata": {},
   "outputs": [],
   "source": [
    "#4\n",
    "input_str=input(\"Enter the string: \")\n",
    "print(input_str.lower())"
   ]
  },
  {
   "cell_type": "code",
   "execution_count": null,
   "id": "40295cef-ff23-480b-8801-d43b061307ef",
   "metadata": {},
   "outputs": [],
   "source": [
    "#5\n",
    "user_input=input(\"Enter a string: \")\n",
    "count=0\n",
    "for i in user_input:\n",
    "    if i.lower() in \"aeiou\":\n",
    "        count=count+1\n",
    "print(f\"There are {count} vowels in this string\")"
   ]
  },
  {
   "cell_type": "code",
   "execution_count": null,
   "id": "0a010ac9-96dc-4420-ac88-0065eea89ad0",
   "metadata": {},
   "outputs": [],
   "source": [
    "#6\n",
    "user_input=input(\"Enter a string: \")\n",
    "count=0\n",
    "char=\"\"\n",
    "for i in user_input:\n",
    "    if i==\" \":\n",
    "        i=\"\"\n",
    "    char+=i\n",
    "for i in char:\n",
    "    if i.lower() not in \"aeiou\":\n",
    "        count=count+1\n",
    "print(f\"There are {count} consonants in this string\")"
   ]
  },
  {
   "cell_type": "code",
   "execution_count": null,
   "id": "e1347e1e-7f9b-43c3-8a0f-7c32c68ad1fb",
   "metadata": {},
   "outputs": [],
   "source": [
    "#7\n",
    "user_input=input(\"Enter a string: \")\n",
    "print(user_input.strip())"
   ]
  },
  {
   "cell_type": "code",
   "execution_count": null,
   "id": "5f088185-4e87-4a9a-954b-e5ccc9ab096f",
   "metadata": {},
   "outputs": [],
   "source": [
    "#8\n",
    "str=input(\"Enter a string: \")\n",
    "count=0\n",
    "for i in str:\n",
    "    count=count+1\n",
    "print(count)"
   ]
  },
  {
   "cell_type": "code",
   "execution_count": null,
   "id": "ed7e0ef7-9564-4dbf-abfb-2124ee7be74b",
   "metadata": {},
   "outputs": [],
   "source": [
    "#9\n",
    "str=input(\"Enter the string: \")\n",
    "a=input(\"Enter the string you want to check: \")\n",
    "if a in str:\n",
    "    print(\"Yes,the element is present\")\n",
    "else:\n",
    "    print(\"The string is absent\")"
   ]
  },
  {
   "cell_type": "code",
   "execution_count": null,
   "id": "1aceaae0-fc14-4258-9808-e2594b82abec",
   "metadata": {},
   "outputs": [],
   "source": [
    "#10\n",
    "a=input(\"Enter the string: \")\n",
    "b=input(\"Enter the string to replace: \")\n",
    "c=input(\"Enter the replacement string: \")\n",
    "print(a.replace(b,c))"
   ]
  },
  {
   "cell_type": "code",
   "execution_count": null,
   "id": "3bfcb0e3-bd4f-420e-9bad-36ea8cff3e0f",
   "metadata": {},
   "outputs": [],
   "source": [
    "#11\n",
    "a=input(\"Enter the string: \")\n",
    "b=input(\"Enter the word to count: \")\n",
    "c=a.split()\n",
    "count=0\n",
    "for i in c:\n",
    "    if i==b:\n",
    "        count=count+1\n",
    "print(count)"
   ]
  },
  {
   "cell_type": "code",
   "execution_count": null,
   "id": "a84aabd0-4bfb-44eb-9bd7-296b8baa8d79",
   "metadata": {},
   "outputs": [],
   "source": [
    "#12\n",
    "a=input(\"Enter the string: \")\n",
    "b=input(\"Enter what to find: \")\n",
    "print(a.index(b))"
   ]
  },
  {
   "cell_type": "code",
   "execution_count": null,
   "id": "f4c2af70-fd76-4f02-a22a-738a14c11dd0",
   "metadata": {},
   "outputs": [],
   "source": [
    "#13\n",
    "def last_occurence(str,word):\n",
    "    index=str.rfind(word)\n",
    "    return index\n",
    "str=input(\"Enter a string: \")\n",
    "word=input(\"Enter a word, whose last occurence you want to find: \")\n",
    "print(last_occurence(str,word))"
   ]
  },
  {
   "cell_type": "code",
   "execution_count": null,
   "id": "7c2ea253-964b-4f13-98b8-14de741065ea",
   "metadata": {},
   "outputs": [],
   "source": [
    "#14\n",
    "string=input(\"Enter a string: \")\n",
    "print(string.split())"
   ]
  },
  {
   "cell_type": "code",
   "execution_count": null,
   "id": "c700be89-73a8-4d43-98b7-95c964d09f32",
   "metadata": {},
   "outputs": [],
   "source": [
    "#15\n",
    "a=int(input(\"Enter the number of list elements ypu want to add in the list: \"))\n",
    "list=[]\n",
    "for i in range(a):\n",
    "    list_element=input(f\"enter the{i+1} list element: \")\n",
    "    list.append(list_element)\n",
    "print(\" \".join(list))"
   ]
  },
  {
   "cell_type": "code",
   "execution_count": null,
   "id": "b600d16d-7bad-4164-91af-14ed8b34a2de",
   "metadata": {},
   "outputs": [],
   "source": [
    "#16\n",
    "string=input(\"Enter a string: \")\n",
    "list=string.split()\n",
    "print(\"_\".join(list))"
   ]
  },
  {
   "cell_type": "code",
   "execution_count": null,
   "id": "4f066bde-0167-49c0-81a1-3cb06a3c6b65",
   "metadata": {},
   "outputs": [],
   "source": [
    "#17\n",
    "str=input(\"Enter a string: \")\n",
    "check=input(\"Enter the string that you want to check: \")\n",
    "if str[:len(check)]==check:\n",
    "    print(True)\n",
    "else:\n",
    "    print(False)"
   ]
  },
  {
   "cell_type": "code",
   "execution_count": null,
   "id": "a95a62b9-f828-4d76-bc02-d6bc297a7ed5",
   "metadata": {},
   "outputs": [],
   "source": [
    "#18\n",
    "str=input(\"Enter a string: \")\n",
    "check=input(\"Enter the string that you want to check: \")\n",
    "if str[-len(check):]==check:\n",
    "    print(True)\n",
    "else:\n",
    "    print(False)"
   ]
  },
  {
   "cell_type": "code",
   "execution_count": null,
   "id": "690cf425-cfd3-4cfb-96c8-62fad4bf6f4a",
   "metadata": {},
   "outputs": [],
   "source": [
    "#19\n",
    "str=input(\"enter a string: \")\n",
    "print(str.title())"
   ]
  },
  {
   "cell_type": "code",
   "execution_count": null,
   "id": "cc601ab1-ecb0-45cc-a766-6648a2f77eef",
   "metadata": {},
   "outputs": [],
   "source": [
    "#20\n",
    "def maxlen(str):\n",
    "    a=str.split()\n",
    "    l=[]\n",
    "    for i in a:\n",
    "        count=0\n",
    "        for j in i:\n",
    "            count=count+1\n",
    "        l.append(count)\n",
    "    x=\"\"\n",
    "    for i in a:\n",
    "        if len(i)==max(l):\n",
    "            x+=f\"The word with longest length is: {i}\\n\"\n",
    "    return x\n",
    "a=input('enter a string: ')\n",
    "print(maxlen(a))"
   ]
  },
  {
   "cell_type": "code",
   "execution_count": null,
   "id": "6d29bb41-499f-4a80-b1a9-f1fef97555f3",
   "metadata": {},
   "outputs": [],
   "source": [
    "#21\n",
    "def minlen(str):\n",
    "    a=str.split()\n",
    "    l=[]\n",
    "    for i in a:\n",
    "        count=0\n",
    "        for j in i:\n",
    "            count=count+1\n",
    "        l.append(count)\n",
    "    x=\"\"\n",
    "    for i in a:\n",
    "        if len(i)==min(l):\n",
    "            x+=f\"The word with minimum length is: {i}\\n\"\n",
    "    return x\n",
    "a=input('enter a string: ')\n",
    "print(minlen(a))"
   ]
  },
  {
   "cell_type": "code",
   "execution_count": null,
   "id": "8333e99c-d852-4df5-97b1-95fb35d97251",
   "metadata": {},
   "outputs": [],
   "source": [
    "#22\n",
    "str=input(\"Enter a string: \")\n",
    "a=str.split()\n",
    "b=reversed(a)\n",
    "print(' '.join(b))"
   ]
  },
  {
   "cell_type": "code",
   "execution_count": null,
   "id": "f2e6d16e-bc29-4e34-9e73-52e1d854b087",
   "metadata": {},
   "outputs": [],
   "source": [
    "#23\n",
    "str=input('Enter a string: ')\n",
    "print(str.isalnum())"
   ]
  },
  {
   "cell_type": "code",
   "execution_count": null,
   "id": "995c49a9-a8d5-4943-bc18-aa8094a7862b",
   "metadata": {},
   "outputs": [],
   "source": [
    "#24\n",
    "def extractdigits(a):\n",
    "    digits=\"\"\n",
    "    for i in str:\n",
    "        if i.isdigit():\n",
    "            digits+=i\n",
    "    return(digits)\n",
    "str=input(\"enter a string: \")\n",
    "print(extractdigits(str))"
   ]
  },
  {
   "cell_type": "code",
   "execution_count": null,
   "id": "92d08a0a-a816-4d11-ae6a-7177d96d9b9a",
   "metadata": {},
   "outputs": [],
   "source": [
    "#25\n",
    "def extractalpha(a):\n",
    "    alpha=\"\"\n",
    "    for i in str:\n",
    "        if i.isalpha():\n",
    "            alpha+=i\n",
    "    return(alpha)\n",
    "str=input(\"enter a string: \")\n",
    "print(extractalpha(str))"
   ]
  },
  {
   "cell_type": "code",
   "execution_count": null,
   "id": "0491e929-76ad-48fe-be31-2e3322ab9c65",
   "metadata": {},
   "outputs": [],
   "source": [
    "#26\n",
    "str=input(\"enter a string: \")\n",
    "def uppercase(par):\n",
    "    uper=\"\"\n",
    "    for i in str:\n",
    "        if i.isupper():\n",
    "            uper+=i\n",
    "    return(uper)\n",
    "print(uppercase(str))"
   ]
  },
  {
   "cell_type": "code",
   "execution_count": null,
   "id": "4529750e-be3b-4850-956e-b7b76c44c3c9",
   "metadata": {},
   "outputs": [],
   "source": [
    "#27\n",
    "str=input(\"enter a string: \")\n",
    "def lowercase(par):\n",
    "    low=\"\"\n",
    "    for i in str:\n",
    "        if i.islower():\n",
    "            low+=i\n",
    "    return(low)\n",
    "print(lowercase(str))"
   ]
  },
  {
   "cell_type": "code",
   "execution_count": null,
   "id": "e71b7163-db23-441b-bd1c-b6f6a5d1ea33",
   "metadata": {},
   "outputs": [],
   "source": [
    "#28\n",
    "str=input('Enter a string: ')\n",
    "def swap(swaping):\n",
    "    a=str.swapcase()\n",
    "    return(a)\n",
    "print(swap(str))"
   ]
  },
  {
   "cell_type": "code",
   "execution_count": null,
   "id": "c0bdec31-cdc4-48f9-bb35-75125942071a",
   "metadata": {},
   "outputs": [],
   "source": [
    "#29\n",
    "str=input(\"Enter a string: \")\n",
    "def rem(r):\n",
    "    r=input(\"Enter a string you want to remove:\")\n",
    "    a=str.replace(r,\"\")\n",
    "    return(a)\n",
    "print(rem(str))"
   ]
  },
  {
   "cell_type": "code",
   "execution_count": null,
   "id": "0761557b-9ae1-44c7-a5fc-b906245f2be3",
   "metadata": {},
   "outputs": [],
   "source": [
    "#31\n",
    "def extract_username(enter_mail):\n",
    "    a=enter_mail.split('@')\n",
    "    return(a[0])\n",
    "print(extract_username('xyz@gmail.com'))"
   ]
  },
  {
   "cell_type": "code",
   "execution_count": null,
   "id": "5b6ebfff-98b2-43af-a9e3-180ffa75216e",
   "metadata": {},
   "outputs": [],
   "source": [
    "#32\n",
    "def extract_username(enter_mail):\n",
    "    a=enter_mail.split('@')\n",
    "    return(a[1])\n",
    "print(extract_username('xyz@gmail.com'))"
   ]
  },
  {
   "cell_type": "code",
   "execution_count": null,
   "id": "b2c2827a-5387-4c4d-bc51-96de38000f6b",
   "metadata": {},
   "outputs": [],
   "source": [
    "#33\n",
    "a=input(\"enter a string: \")\n",
    "b=a.split()\n",
    "c=' '.join(b)\n",
    "print(c)"
   ]
  },
  {
   "cell_type": "code",
   "execution_count": null,
   "id": "7c8bf57a-a5ba-489f-80b9-bbb00ecf591a",
   "metadata": {},
   "outputs": [],
   "source": [
    "#35\n",
    "def extract_protocol(url):\n",
    "    a=url.split(\"://\")\n",
    "    return a[0]\n",
    "b=input(\"Enter a url : \")\n",
    "print(extract_protocol(b))"
   ]
  },
  {
   "cell_type": "code",
   "execution_count": null,
   "id": "f3fb5533-edcd-4a96-9e87-c06f3df41341",
   "metadata": {},
   "outputs": [],
   "source": [
    "#36\n",
    "str=input(\"enter a string: \")\n",
    "def frequencycount(str):\n",
    "    frequency={}\n",
    "    for i in str:\n",
    "        if i in frequency:\n",
    "            frequency[i]=frequency[i]+1\n",
    "        else:\n",
    "            frequency[i]=1\n",
    "    return frequency\n",
    "print(frequencycount(str))"
   ]
  },
  {
   "cell_type": "code",
   "execution_count": null,
   "id": "ddd5f812-cbee-4c96-9020-279829f37b65",
   "metadata": {},
   "outputs": [],
   "source": [
    "#37\n",
    "import string\n",
    "def rem_punctuations():\n",
    "    str=input(\"enter a string: \")\n",
    "    str1=\"\"\n",
    "    for i in str:\n",
    "        if i not in string.punctuation:\n",
    "            str1+=i\n",
    "    return(str1)\n",
    "print(rem_punctuations())"
   ]
  },
  {
   "cell_type": "code",
   "execution_count": null,
   "id": "a77d49ea-d622-4644-b5b0-679b133315c8",
   "metadata": {},
   "outputs": [],
   "source": [
    "#38\n",
    "def check_digit():\n",
    "    str=input(\"Enter a string: \")\n",
    "    return str.isdigit()\n",
    "print(check_digit())"
   ]
  },
  {
   "cell_type": "code",
   "execution_count": null,
   "id": "a6506f2d-dea0-4cb2-8d9f-f00404d41610",
   "metadata": {},
   "outputs": [],
   "source": [
    "#39\n",
    "def check_alpha():\n",
    "    str=input(\"Enter a string: \")\n",
    "    return str.isalpha()\n",
    "print(check_alpha())"
   ]
  },
  {
   "cell_type": "code",
   "execution_count": null,
   "id": "a28f65ed-9d1f-48aa-9495-fe6859c48930",
   "metadata": {},
   "outputs": [],
   "source": [
    "#40\n",
    "def strtolist():\n",
    "    str=input(\"Enter a string: \")\n",
    "    list=[]\n",
    "    for i in str:\n",
    "        list.append(i)\n",
    "    return list\n",
    "print(strtolist())"
   ]
  },
  {
   "cell_type": "code",
   "execution_count": null,
   "id": "9da673fd-45f9-4b84-a0f8-8055012c116c",
   "metadata": {},
   "outputs": [],
   "source": [
    "#41\n",
    "def isanagram():\n",
    "    a=input(\"Enter a string: \")\n",
    "    b=input(\"Enter another string: \")\n",
    "    lista=[]\n",
    "    listb=[]\n",
    "    for i in a:\n",
    "        lista.append(i)\n",
    "    for i in b:\n",
    "        listb.append(i)\n",
    "    if sorted(lista)==sorted(listb):\n",
    "        return \"The 2 strings are anagrams\"\n",
    "    else:\n",
    "        return \"They are not anagrams\"\n",
    "print(isanagram())"
   ]
  },
  {
   "cell_type": "code",
   "execution_count": null,
   "id": "7eaf8c03-76f9-4ac6-ae59-ade936e9d37c",
   "metadata": {},
   "outputs": [],
   "source": [
    "#44\n",
    "str=input(\"Enter a string: \")\n",
    "def mostfrequent(str):\n",
    "    l=str.split()\n",
    "    lst=[l.count(i) for i in l]\n",
    "    a=\"\"\n",
    "    for i in set(l):\n",
    "        if l.count(i)==max(lst):\n",
    "            a+=f\"\\n{i}\"\n",
    "    return(a)\n",
    "print(f\"The most frequent word in str is: {mostfrequent(str)}\")"
   ]
  },
  {
   "cell_type": "code",
   "execution_count": null,
   "id": "b037a8d3-b558-4141-bf00-4c02ac49e34a",
   "metadata": {},
   "outputs": [],
   "source": [
    "#45\n",
    "def unique(str):\n",
    "    u=set(str.split())\n",
    "    a=\"\"\n",
    "    for i in u:\n",
    "        a+=f\"\\n{i}\"\n",
    "    return a\n",
    "str=input(\"Enter a string: \")\n",
    "print(f\"The unique words in the string are: {unique(str)}\")"
   ]
  },
  {
   "cell_type": "code",
   "execution_count": null,
   "id": "cdc2b7d9-86d9-4a69-8cc2-0b9113d5a03c",
   "metadata": {},
   "outputs": [],
   "source": [
    "#47\n",
    "str=input(\"Enter a string: \")\n",
    "def isspecial(str):\n",
    "    a=\"\"\n",
    "    for i in str:\n",
    "        if i not in \"!@#$%^&*()-_=+}[]{;:'\\\",.<>?/`~|\\\\\":\n",
    "            a+=i\n",
    "    if str==a:\n",
    "        return True\n",
    "    else:\n",
    "        return False\n",
    "print(isspecial(str))"
   ]
  },
  {
   "cell_type": "code",
   "execution_count": null,
   "id": "19e94aa9-a5ca-45da-803c-222552facbae",
   "metadata": {},
   "outputs": [],
   "source": [
    "#48\n",
    "def removenth(str,n):\n",
    "    list=str.split()\n",
    "    list.pop(n-1)\n",
    "    a=' '.join(list)\n",
    "    return a\n",
    "str=input(\"Enter a string: \")\n",
    "n=int(input(\"Enter the position of the number you want to remove\"))\n",
    "print(removenth(str,n))"
   ]
  },
  {
   "cell_type": "code",
   "execution_count": null,
   "id": "79c5e709-0997-4c97-8336-0cf812ab1c6f",
   "metadata": {},
   "outputs": [],
   "source": [
    "#49\n",
    "def insertnth(str,word,n):\n",
    "    list=str.split()\n",
    "    list.insert(n-1,word)\n",
    "    a=' '.join(list)\n",
    "    return a\n",
    "str=input(\"Enter a string: \")\n",
    "n=int(input(\"Enter the position where you want to insert a word: \"))\n",
    "word=input(\"Enter the word you want to insert: \")\n",
    "print(insertnth(str,word,n))"
   ]
  },
  {
   "cell_type": "code",
   "execution_count": null,
   "id": "b202044d-73d8-425d-bbce-41f8c8762366",
   "metadata": {},
   "outputs": [],
   "source": [
    "#list"
   ]
  },
  {
   "cell_type": "code",
   "execution_count": null,
   "id": "cb96798f-12c1-4a02-9084-3779600aa9a6",
   "metadata": {},
   "outputs": [],
   "source": [
    "#1\n",
    "l=[]\n",
    "for i in range(1,11):\n",
    "    l.append(i)\n",
    "print(l)"
   ]
  },
  {
   "cell_type": "code",
   "execution_count": null,
   "id": "c5a2aa00-e176-4758-b87c-f374c46653a3",
   "metadata": {},
   "outputs": [],
   "source": [
    "#2\n",
    "def len(l):\n",
    "    count=0\n",
    "    for i in l:\n",
    "        count+=1\n",
    "    return count\n",
    "print(len([1,2,3,4,5,6,7,8,9,0]))"
   ]
  },
  {
   "cell_type": "code",
   "execution_count": null,
   "id": "ed967b1f-583a-4235-9aa3-beda25bf8964",
   "metadata": {},
   "outputs": [],
   "source": [
    "#3\n",
    "l=[1,2,3,4,5,6,7,8,9]\n",
    "l.append(10)\n",
    "print(l)"
   ]
  },
  {
   "cell_type": "code",
   "execution_count": null,
   "id": "3f1dd6ba-d294-470e-83eb-ce19a54fd86f",
   "metadata": {},
   "outputs": [],
   "source": [
    "#4\n",
    "l=[1,2,3,4,6,7,8,9]\n",
    "l.insert(4,5)\n",
    "print(l)"
   ]
  },
  {
   "cell_type": "code",
   "execution_count": null,
   "id": "3fff0749-9057-4c1a-918d-c866ef1e3fbc",
   "metadata": {},
   "outputs": [],
   "source": [
    "#5\n",
    "l=[0,10,20,30,40,50,60,70,80,90,100]\n",
    "l.remove(10)\n",
    "print(l)"
   ]
  },
  {
   "cell_type": "code",
   "execution_count": null,
   "id": "44941cae-8f13-47ba-af30-85df003054f0",
   "metadata": {},
   "outputs": [],
   "source": [
    "#6\n",
    "l=[0,10,20,30,40,50,60,70,80,90,100]\n",
    "l.pop(10)\n",
    "print(l)"
   ]
  },
  {
   "cell_type": "code",
   "execution_count": null,
   "id": "96b08d7f-3e82-4553-85c0-00afb887dcbd",
   "metadata": {},
   "outputs": [],
   "source": [
    "#7\n",
    "l=[0,10,20,30,40,50,60,70,80,90,100]\n",
    "n=int(input(\"Enter the number you want to find in the list: \"))\n",
    "try:\n",
    "    l.index(n)\n",
    "except Exception as e:\n",
    "    print(e)"
   ]
  },
  {
   "cell_type": "code",
   "execution_count": null,
   "id": "2cebac6d-e725-4359-b5c7-7ebe3a0a617f",
   "metadata": {},
   "outputs": [],
   "source": [
    "#8\n",
    "l=[0,10,20,30,40,50,60,70,80,90,10]\n",
    "print(l.index(10))"
   ]
  },
  {
   "cell_type": "code",
   "execution_count": null,
   "id": "ade8391b-609b-4b36-8276-6af670aad4e1",
   "metadata": {},
   "outputs": [],
   "source": [
    "#9\n",
    "l=[0,10,20,30,40,50,60,70,80,90,10]\n",
    "print(l.count(10))"
   ]
  },
  {
   "cell_type": "code",
   "execution_count": null,
   "id": "d59a9d22-f7ba-4481-b95e-9bfcdf47c0b2",
   "metadata": {},
   "outputs": [],
   "source": [
    "#10\n",
    "l=[0,10,20,30,40,50,60,70,80,90,100]\n",
    "l.reverse()\n",
    "print(l)"
   ]
  },
  {
   "cell_type": "code",
   "execution_count": null,
   "id": "c4b5c9b0-ffd6-41e2-98b9-64758b52ee36",
   "metadata": {},
   "outputs": [],
   "source": [
    "#11\n",
    "l=[100, 90, 80, 70, 60, 50, 40, 30, 20, 10, 0]\n",
    "print(sorted(l))"
   ]
  },
  {
   "cell_type": "code",
   "execution_count": null,
   "id": "f1c9b140-304a-4108-8428-a52b20c30e5b",
   "metadata": {},
   "outputs": [],
   "source": [
    "#12\n",
    "l=[0, 10, 20, 30, 40, 50, 60, 70, 80, 90, 100]\n",
    "print(sorted(l,reverse=True))"
   ]
  },
  {
   "cell_type": "code",
   "execution_count": null,
   "id": "b1cb021d-6e3c-4b9c-a1c0-5dbb5f265fd9",
   "metadata": {},
   "outputs": [],
   "source": [
    "#13\n",
    "l=[]\n",
    "for i in range(21):\n",
    "    if i%2==0:\n",
    "        l.append(i)\n",
    "print(l)"
   ]
  },
  {
   "cell_type": "code",
   "execution_count": null,
   "id": "e64c8096-2c08-4f08-a527-2903ab322aeb",
   "metadata": {},
   "outputs": [],
   "source": [
    "#14\n",
    "l=[]\n",
    "for i in range(21):\n",
    "    if i%2!=0:\n",
    "        l.append(i)\n",
    "print(l)"
   ]
  },
  {
   "cell_type": "code",
   "execution_count": null,
   "id": "66a41329-6e40-43c7-b355-ea1869bfdba8",
   "metadata": {},
   "outputs": [],
   "source": [
    "#15\n",
    "l=[1,2,3,4,5,6,7,8,9,10]\n",
    "sum=0\n",
    "for i in l:\n",
    "    sum+=i\n",
    "print(f\"The sum of the elements in the list is: {sum}\")"
   ]
  },
  {
   "cell_type": "code",
   "execution_count": null,
   "id": "5305cd69-063e-45b7-8d72-eed1e36ff2a0",
   "metadata": {},
   "outputs": [],
   "source": [
    "#16\n",
    "l=[100, 90, 80, 70, 60, 50, 40, 30, 20, 10, 0]\n",
    "a=sorted(l)\n",
    "print(f\"The maximum value in the list is: {a[-1]}\")"
   ]
  },
  {
   "cell_type": "code",
   "execution_count": null,
   "id": "95f6bf4b-8fcd-4d9e-9e9f-bfbe46869b08",
   "metadata": {},
   "outputs": [],
   "source": [
    "#17\n",
    "l=[100, 90, 80, 70, 60, 50, 40, 30, 20, 10, 0]\n",
    "a=sorted(l)\n",
    "print(f\"The minimum value in the list is: {a[0]}\")"
   ]
  },
  {
   "cell_type": "code",
   "execution_count": null,
   "id": "fef6b977-bf86-4767-8fb6-210d5cc9f16d",
   "metadata": {},
   "outputs": [],
   "source": [
    "#18\n",
    "l=[]\n",
    "for i in range(1,11):\n",
    "    l.append(i**2)\n",
    "print(l)"
   ]
  },
  {
   "cell_type": "code",
   "execution_count": null,
   "id": "c15292c3-1b6b-411b-bd53-ed0c0bcedf7f",
   "metadata": {},
   "outputs": [],
   "source": [
    "#19\n",
    "import random\n",
    "l=[]\n",
    "for i in range(10):\n",
    "    l.append(random.randint(1,100))\n",
    "print(l)"
   ]
  },
  {
   "cell_type": "code",
   "execution_count": null,
   "id": "65c5e1fd-c18d-4f04-98bb-01534de0eb93",
   "metadata": {},
   "outputs": [],
   "source": [
    "#20\n",
    "n=int(input(\"Enter the number of elements you want to append in the list: \"))\n",
    "l=[]\n",
    "l_non_duplicates=[]\n",
    "for i in range(n):\n",
    "    str=input(\"Enter the string you want to append in the list: \")\n",
    "    l.append(str)\n",
    "for i in l:\n",
    "    if i not in l_non_duplicates:\n",
    "        l_non_duplicates.append(i)\n",
    "print(l_non_duplicates)"
   ]
  },
  {
   "cell_type": "code",
   "execution_count": null,
   "id": "f2e911ec-d91b-433a-ac5c-426c28f732e8",
   "metadata": {},
   "outputs": [],
   "source": [
    "#21\n",
    "def common(list1,list2):\n",
    "    a=\"\"\n",
    "    for i in list1:\n",
    "        if i in list2:\n",
    "            a+=f\"\\n{i}\"\n",
    "    return f\"The common elements in the 2 lists are: {a}\"\n",
    "list1=[1,2,3,4,5]\n",
    "list2=[3,4,5,6,7]\n",
    "print(common(list1,list2))"
   ]
  },
  {
   "cell_type": "code",
   "execution_count": null,
   "id": "f70c458b-15ee-49d4-9623-246d1e515f8a",
   "metadata": {},
   "outputs": [],
   "source": [
    "#22\n",
    "l1=[10,20,30,40,50]\n",
    "l2=[30,40,50,60,70]\n",
    "dif=list(set(l1).difference(set(l2)))\n",
    "print(dif)"
   ]
  },
  {
   "cell_type": "code",
   "execution_count": null,
   "id": "4ca1f734-e467-4575-898b-bcae0338185c",
   "metadata": {},
   "outputs": [],
   "source": [
    "#23\n",
    "l1=[1,2,3,4,5]\n",
    "l2=[4,5,6,7,8,9,10]\n",
    "l=l1+l2\n",
    "print(l)"
   ]
  },
  {
   "cell_type": "code",
   "execution_count": null,
   "id": "1b5dacf5-0a9a-4fdb-8150-5feb26ed00f2",
   "metadata": {},
   "outputs": [],
   "source": [
    "#24\n",
    "l=[5,6,7,8,9,10]\n",
    "l1=[]\n",
    "for i in l:\n",
    "    l1.append(i*2)\n",
    "l=l1\n",
    "print(l)"
   ]
  },
  {
   "cell_type": "code",
   "execution_count": null,
   "id": "7b09bea3-5215-4f92-abd5-bc3ee6ae595d",
   "metadata": {},
   "outputs": [],
   "source": [
    "#25\n",
    "l=[10,11,12,13,14,15,16]\n",
    "for i in l:\n",
    "    if i%2==0:\n",
    "        l.remove(i)\n",
    "print(l)"
   ]
  },
  {
   "cell_type": "code",
   "execution_count": null,
   "id": "f1bdec68-22f7-47a0-90d9-0f5d54cec396",
   "metadata": {},
   "outputs": [],
   "source": [
    "#26\n",
    "l1=['1','2','3','4','5']\n",
    "l2=[int(i) for i in l1]\n",
    "print(l2)"
   ]
  },
  {
   "cell_type": "code",
   "execution_count": null,
   "id": "88e43d56-f13e-4637-92b1-d8cb7a3ee3c9",
   "metadata": {},
   "outputs": [],
   "source": [
    "#27\n",
    "l1=[1,2,3,4,5]\n",
    "l2=[str(i) for i in l1]\n",
    "print(l2)"
   ]
  },
  {
   "cell_type": "code",
   "execution_count": null,
   "id": "3b04a3e7-ec14-48f4-9d29-29e73ed74b65",
   "metadata": {},
   "outputs": [],
   "source": [
    "#28\n",
    "l1=[[1,2,3,4,5],[6,7,8],[9,10]]\n",
    "l2=[j for i in l1 for j in i]\n",
    "print(l2)"
   ]
  },
  {
   "cell_type": "code",
   "execution_count": null,
   "id": "20357f00-fd03-4aa4-8a0f-ea4c070259a8",
   "metadata": {},
   "outputs": [],
   "source": [
    "#29\n",
    "def fibonacci(n):\n",
    "    a=0\n",
    "    b=1\n",
    "    l=[]\n",
    "    for i in range(n):\n",
    "        l.append(a)\n",
    "        a,b=b,a+b\n",
    "    return l\n",
    "n=int(input(\"Enter a integer: \"))\n",
    "print(fibonacci(n))"
   ]
  },
  {
   "cell_type": "code",
   "execution_count": null,
   "id": "d7ab93a3-d757-4990-95a1-390149819039",
   "metadata": {},
   "outputs": [],
   "source": [
    "#30\n",
    "def issorted(list):\n",
    "    a=sorted(list)\n",
    "    if list==a:\n",
    "        return True\n",
    "    else:\n",
    "        return False\n",
    "n=int(input(\"Enter the number of elements you want to append in the list: \"))\n",
    "l=[]\n",
    "for i in range(n):\n",
    "    a=input(f\"Enter the {i+1} element in the list: \")\n",
    "    l.append(a)\n",
    "print(issorted(l))"
   ]
  },
  {
   "cell_type": "code",
   "execution_count": null,
   "id": "077d42ec-4c98-4980-ae4c-79c1a2404e63",
   "metadata": {},
   "outputs": [],
   "source": [
    "#31\n",
    "def rotate_left(l,n):\n",
    "    n = n % len(l)\n",
    "    l1=l[n:]+l[:n]\n",
    "    return l1\n",
    "l=[1,2,3,4,5,6,7,8,9,10]\n",
    "print(rotate_left(l,4))"
   ]
  },
  {
   "cell_type": "code",
   "execution_count": null,
   "id": "810d4a0a-f01b-418b-b1f1-85c7c9330591",
   "metadata": {},
   "outputs": [],
   "source": [
    "#32\n",
    "def rotate_right(l,n):\n",
    "    n = n % len(l)\n",
    "    l1=l[-n:]+l[:-n]\n",
    "    return l1\n",
    "l=[1,2,3,4,5,6,7,8,9,10]\n",
    "print(rotate_right(l,4))"
   ]
  },
  {
   "cell_type": "code",
   "execution_count": null,
   "id": "be0073d2-9058-4aca-ae94-fbbf73936606",
   "metadata": {},
   "outputs": [],
   "source": [
    "#33\n",
    "def primelist(n):\n",
    "    l=[]\n",
    "    for i in range(2,n+1):\n",
    "        count=0\n",
    "        for j in range(2,i):\n",
    "            if i%j==0:\n",
    "                count=count+1\n",
    "        if count==0:\n",
    "            l.append(i)\n",
    "    return l\n",
    "print(primelist(50))"
   ]
  },
  {
   "cell_type": "code",
   "execution_count": null,
   "id": "564b5ccb-742c-4599-8cf9-52d7e1ef8396",
   "metadata": {},
   "outputs": [],
   "source": [
    "#35\n",
    "def secondlargest(l):\n",
    "    a=sorted(l)\n",
    "    return a[-2]\n",
    "l=[5,7,9,14,11,2,4,5]\n",
    "print(f\"The second largest number in the string is: {secondlargest(l)}\")"
   ]
  },
  {
   "cell_type": "code",
   "execution_count": null,
   "id": "b727d4fd-7039-4729-b59e-f9e6f2d03057",
   "metadata": {},
   "outputs": [],
   "source": [
    "#36\n",
    "def replacebysquare(l):\n",
    "    l1=[i**2 for i in l]\n",
    "    l=l1\n",
    "    return l\n",
    "l=[1,2,3,4,5,6,7,8,9,10]\n",
    "print(f\"The list after replacing by its square is:\\n{replacebysquare(l)}\")"
   ]
  },
  {
   "cell_type": "code",
   "execution_count": null,
   "id": "af0b3534-c8d9-4148-b6dd-4072bce37877",
   "metadata": {},
   "outputs": [],
   "source": [
    "#39\n",
    "def factorial(n):\n",
    "    fact=1\n",
    "    for i in range(1,n+1):\n",
    "        fact*=i\n",
    "    return fact\n",
    "l=[factorial(i) for i in range(1,11)]\n",
    "print(l)"
   ]
  },
  {
   "cell_type": "code",
   "execution_count": null,
   "id": "8d7e3199-21e0-4842-9434-95912ec66699",
   "metadata": {},
   "outputs": [],
   "source": [
    "#40\n",
    "def checkcommon(l1,l2):\n",
    "    count=0\n",
    "    for i in l1:\n",
    "        if i in l2:\n",
    "            count+=1\n",
    "    if count>0:\n",
    "        return True\n",
    "    else:\n",
    "        return False\n",
    "l1=[1,2,3,4,5,6,7,8,9,10]\n",
    "l2=[10,11,12,13,14,15,16,17,18,19,20]\n",
    "print(checkcommon(l1,l2))"
   ]
  },
  {
   "cell_type": "code",
   "execution_count": null,
   "id": "9ec483d8-8857-4c23-bee8-a94a472fda1d",
   "metadata": {},
   "outputs": [],
   "source": [
    "#41\n",
    "l=[1,2,3,4,5,6,7,8,9,10]\n",
    "l.clear()\n",
    "print(l)"
   ]
  },
  {
   "cell_type": "code",
   "execution_count": null,
   "id": "61a4d353-1dfd-4308-a5bc-6b7f6db23bee",
   "metadata": {},
   "outputs": [],
   "source": [
    "#42\n",
    "l1=[-5,-4,-3,-2,-1,0,1,2,3,4,5]\n",
    "l2=[0 if i<0 else i for i in l1]\n",
    "print(l2)"
   ]
  },
  {
   "cell_type": "code",
   "execution_count": null,
   "id": "39296eaf-219c-4fee-bd96-bad92105b870",
   "metadata": {},
   "outputs": [],
   "source": [
    "#43\n",
    "str=input(\"Enter a string: \")\n",
    "print(str.split())"
   ]
  },
  {
   "cell_type": "code",
   "execution_count": null,
   "id": "b3a54484-f8cb-478d-b65e-1629833f4bca",
   "metadata": {},
   "outputs": [],
   "source": [
    "#44\n",
    "list=[\"My\",\"name\",\"is\",\"Amay\"]\n",
    "a=\" \".join(list)\n",
    "print(a)"
   ]
  },
  {
   "cell_type": "code",
   "execution_count": null,
   "id": "8a14855e-0939-4ba0-8375-43f5fbe45517",
   "metadata": {},
   "outputs": [],
   "source": [
    "#45\n",
    "def powers(n):\n",
    "    l=[]\n",
    "    for i in range(1,n+1):\n",
    "        l.append(2**i)\n",
    "    return l\n",
    "print(powers(10))"
   ]
  },
  {
   "cell_type": "code",
   "execution_count": null,
   "id": "1bc3fbab-1dca-4442-9567-052be6a61872",
   "metadata": {},
   "outputs": [],
   "source": [
    "#46\n",
    "list=['My','name','is','Amay']\n",
    "def findlongest(l):\n",
    "    l=sorted(l,key=lambda x:len(x))\n",
    "    a=\"\"\n",
    "    for i in range(len(l)):\n",
    "        if len(l[i])==len(l[-1]):\n",
    "            a+=f\"The longest string in the list is: {l[i]}\\n\"\n",
    "    return a\n",
    "list=['My','name','is','Amay']\n",
    "print(findlongest(list))"
   ]
  },
  {
   "cell_type": "code",
   "execution_count": null,
   "id": "7ca14b7b-5ded-4b3d-a8f6-0bdf1eed6fb7",
   "metadata": {},
   "outputs": [],
   "source": [
    "#47\n",
    "list=['My','name','is','Amay']\n",
    "def findshortest(l):\n",
    "    l=sorted(l,key=lambda x:len(x))\n",
    "    a=\"\"\n",
    "    for i in range(len(l)):\n",
    "        if len(l[i])==len(l[0]):\n",
    "            a+=f\"The shortest string in the list is: {l[i]}\\n\"\n",
    "    return a\n",
    "list=['My','name','is','Amay']\n",
    "print(findshortest(list))"
   ]
  },
  {
   "cell_type": "code",
   "execution_count": null,
   "id": "afb0c345-adce-4d9b-a6c6-3c4931614cff",
   "metadata": {},
   "outputs": [],
   "source": [
    "#49\n",
    "def check(main_list,subsequence):\n",
    "    count=0\n",
    "    for i in main_list:\n",
    "        if i in subsequence:\n",
    "            count+=1\n",
    "    if count==len(subsequence):\n",
    "        return f\"The list {subsequence} is there in list {main_list}\"\n",
    "    else:\n",
    "        return f\"The list {subsequence} is not there in list {main_list}\"\n",
    "l1=[1,2,3,4,5,6,7,8,9,10]\n",
    "l2=[4,5,6,7]\n",
    "print(check(l1,l2))"
   ]
  },
  {
   "cell_type": "code",
   "execution_count": null,
   "id": "0aec789b-6163-42d5-ba29-51c6bb6f7f06",
   "metadata": {},
   "outputs": [],
   "source": [
    "#50\n",
    "def swaping(list,index1,index2):\n",
    "    list[index1],list[index2]=list[index2],list[index1]\n",
    "    return list\n",
    "lst=[1,2,3,4,5,6,7,8,9,10]\n",
    "print(swaping(lst,0,5))"
   ]
  },
  {
   "cell_type": "code",
   "execution_count": null,
   "id": "ffc96c2e-304d-4d57-99f5-5c1c36c0235a",
   "metadata": {},
   "outputs": [],
   "source": [
    "#tuple"
   ]
  },
  {
   "cell_type": "code",
   "execution_count": null,
   "id": "3489b3b7-400b-4735-b245-c3556df3b12d",
   "metadata": {},
   "outputs": [],
   "source": [
    "#1\n",
    "t=tuple(range(1,6))\n",
    "print(t)"
   ]
  },
  {
   "cell_type": "code",
   "execution_count": null,
   "id": "4e1ac032-65b9-45e5-9ff6-9e19db1bc9a9",
   "metadata": {},
   "outputs": [],
   "source": [
    "#2\n",
    "tuple=(1,2,3,4,5)\n",
    "print(tuple[2])"
   ]
  },
  {
   "cell_type": "code",
   "execution_count": null,
   "id": "76f0e1d9-4bf2-4d9c-9f33-393c063b5e87",
   "metadata": {},
   "outputs": [],
   "source": [
    "#3\n",
    "tuple=(1,2,3,4,5,6)\n",
    "count=0\n",
    "for fruit in tuple:\n",
    "    count=count+1\n",
    "print(count)"
   ]
  },
  {
   "cell_type": "code",
   "execution_count": null,
   "id": "069b259f-85cb-4257-a15c-d469be347ff8",
   "metadata": {},
   "outputs": [],
   "source": [
    "#4\n",
    "tuple=(1,2,3,4,5,1,6,1,7,1,8)\n",
    "count=0\n",
    "for i in tuple:\n",
    "    if i==1:\n",
    "        count+=1\n",
    "print(f\"The count of occurrences of 1 in a tuple is: {count}\")"
   ]
  },
  {
   "cell_type": "code",
   "execution_count": null,
   "id": "2e02fd3f-a224-4946-9547-3d2a573b2855",
   "metadata": {},
   "outputs": [],
   "source": [
    "#5\n",
    "tuple=(1,2,3,4,5,1,2,6)\n",
    "print(f\"The index of the first occurence of 1 is: {tuple.index(1)}\")"
   ]
  },
  {
   "cell_type": "code",
   "execution_count": null,
   "id": "d0eba625-7cd8-44e2-9196-b119324c7a04",
   "metadata": {},
   "outputs": [],
   "source": [
    "#6\n",
    "tuple=(1,2,3,4,5)\n",
    "a=int(input(\"Enter a number you want to check in the string: \"))\n",
    "try:\n",
    "    print(f\"The element exists at: {tuple.index(a)}\")\n",
    "except Exception as e:\n",
    "    print(f\"{a} does not exists in tuple\")"
   ]
  },
  {
   "cell_type": "code",
   "execution_count": null,
   "id": "e5b434c3-f657-4a5c-997d-885d4f9a5179",
   "metadata": {},
   "outputs": [],
   "source": [
    "#7\n",
    "tuple=(1,2,3,4,5)\n",
    "list=list(tuple)\n",
    "print(f\"Tuple:{tuple}\")\n",
    "print(f\"List:{list}\")"
   ]
  },
  {
   "cell_type": "code",
   "execution_count": null,
   "id": "8a1dffbb-931d-4d48-a2de-f44a9d004c78",
   "metadata": {},
   "outputs": [],
   "source": [
    "#8\n",
    "list=[1,2,3,4,5]\n",
    "tuple=tuple(list)\n",
    "print(f\"Tuple:{tuple}\")\n",
    "print(f\"List:{list}\")"
   ]
  },
  {
   "cell_type": "code",
   "execution_count": null,
   "id": "cf50b4d9-fcd3-4135-af88-ec4c3fd62a86",
   "metadata": {},
   "outputs": [],
   "source": [
    "#9\n",
    "tuple=(1,2,3)\n",
    "a,b,c=tuple\n",
    "print(a,b,c)"
   ]
  },
  {
   "cell_type": "code",
   "execution_count": null,
   "id": "76e3649c-980a-4466-a38b-8969c9f619d9",
   "metadata": {},
   "outputs": [],
   "source": [
    "#10\n",
    "tuple=tuple(i for i in range(1,11)if i%2==0)\n",
    "print(tuple)"
   ]
  },
  {
   "cell_type": "code",
   "execution_count": null,
   "id": "8aeb8d0a-546b-4fe8-8f0d-23bcc92af433",
   "metadata": {},
   "outputs": [],
   "source": [
    "#11\n",
    "tuple=tuple(i for i in range(1,11)if i%2==1)\n",
    "print(tuple)"
   ]
  },
  {
   "cell_type": "code",
   "execution_count": null,
   "id": "c4835f81-e659-4c65-8d39-46354512088f",
   "metadata": {},
   "outputs": [],
   "source": [
    "#12\n",
    "t1=(1,2,3,4,5)\n",
    "t2=(6,7,8,9,10)\n",
    "t=t1+t2\n",
    "print(t)"
   ]
  },
  {
   "cell_type": "code",
   "execution_count": null,
   "id": "b84426c8-159c-4eea-a50f-9b94be427eeb",
   "metadata": {},
   "outputs": [],
   "source": [
    "#13\n",
    "tuple=(1,2,3,4,5)\n",
    "repeated_tuple=tuple*3\n",
    "print(repeated_tuple)"
   ]
  },
  {
   "cell_type": "code",
   "execution_count": null,
   "id": "1c6d07fd-6469-4a03-938d-12f6f6acd8b3",
   "metadata": {},
   "outputs": [],
   "source": [
    "#14\n",
    "tuple=(1,2,3,4,5)\n",
    "if len(tuple)==0:\n",
    "    print(\"The tuple is empty\")\n",
    "else:\n",
    "    print(\"The tuple is not empty\")"
   ]
  },
  {
   "cell_type": "code",
   "execution_count": null,
   "id": "c4aff24d-fbf4-4f27-978a-d666b157a428",
   "metadata": {},
   "outputs": [],
   "source": [
    "#15\n",
    "tuple=((1,2,3,4),('a','b','c','d'),(True,False))\n",
    "print(tuple)"
   ]
  },
  {
   "cell_type": "code",
   "execution_count": null,
   "id": "82349b6d-733d-42ee-b0ad-9f86e877ee8e",
   "metadata": {},
   "outputs": [],
   "source": [
    "#16\n",
    "tuple=((1,2,3,4),('a','b','c','d'),(True,False))\n",
    "print(tuple[0])"
   ]
  },
  {
   "cell_type": "code",
   "execution_count": null,
   "id": "a1f39ffb-524e-42b2-9d48-3612ae97e4d1",
   "metadata": {},
   "outputs": [],
   "source": [
    "#17\n",
    "tuple=(0)\n",
    "print(tuple)"
   ]
  },
  {
   "cell_type": "code",
   "execution_count": null,
   "id": "86bcc151-3c93-4b34-befc-6c66eb0af1bc",
   "metadata": {},
   "outputs": [],
   "source": [
    "#18\n",
    "t1=(1,2,3)\n",
    "t2=(2,3)\n",
    "if t1==t2:\n",
    "    print(f\"The tuple {t1} and {t2} are equal\")\n",
    "else:\n",
    "    print(f\"The tuple {t1} and {t2} are not equal\")"
   ]
  },
  {
   "cell_type": "code",
   "execution_count": null,
   "id": "6c2bc0de-a1f1-4a23-bd68-748230772a17",
   "metadata": {},
   "outputs": [],
   "source": [
    "#19\n",
    "t=(1,2,3)\n",
    "del t\n",
    "print(t)"
   ]
  },
  {
   "cell_type": "code",
   "execution_count": null,
   "id": "22a61537-8cef-4f9a-88ee-e193d8e98ecb",
   "metadata": {},
   "outputs": [],
   "source": [
    "#20\n",
    "t=(1,2,3,4,5,6,7,8,9)\n",
    "print(t[2:7:2])"
   ]
  },
  {
   "cell_type": "code",
   "execution_count": null,
   "id": "191966d3-ce31-4306-889f-083b757c1e8e",
   "metadata": {},
   "outputs": [],
   "source": [
    "#21\n",
    "tuple=(1,2,3,4,5,4,3,2,1)\n",
    "print(max(tuple))"
   ]
  },
  {
   "cell_type": "code",
   "execution_count": null,
   "id": "8f1329d8-2c9a-4d77-85f4-7c6eba3f0418",
   "metadata": {},
   "outputs": [],
   "source": [
    "#22\n",
    "tuple=(1,2,3,4,5,4,3,2,1)\n",
    "print(min(tuple))"
   ]
  },
  {
   "cell_type": "code",
   "execution_count": null,
   "id": "16a8e340-30f1-4733-bdaf-96fb0fc5f92e",
   "metadata": {},
   "outputs": [],
   "source": [
    "#23\n",
    "a=input(\"Enter the string: \")\n",
    "print(tuple(a))"
   ]
  },
  {
   "cell_type": "code",
   "execution_count": null,
   "id": "8c95628e-8606-41b3-88d7-4b7c6713b131",
   "metadata": {},
   "outputs": [],
   "source": [
    "#24\n",
    "t=('m','y',' ','n','a','m','e',' ','i','s',' ','x','y','z')\n",
    "print(\"\".join(t))"
   ]
  },
  {
   "cell_type": "code",
   "execution_count": null,
   "id": "8c6463a4-5c88-478e-b4cf-89f44bcaeedc",
   "metadata": {},
   "outputs": [],
   "source": [
    "#25\n",
    "t=(1,\"my name is xyz\",1.123456789,complex(1,2),[1,2,3,4,5],{0:\"m\",1:\"y\"},(1,2,3,4,5),True,False)\n",
    "print(t)"
   ]
  },
  {
   "cell_type": "code",
   "execution_count": null,
   "id": "bb0b2326-c5f3-480f-b372-7bb8c70a9112",
   "metadata": {},
   "outputs": [],
   "source": [
    "#26\n",
    "t1=(1,2,3)\n",
    "t2=(2,3)\n",
    "if t1==t2:\n",
    "    print(f\"The tuple {t1} and {t2} are equal\")\n",
    "else:\n",
    "    print(f\"The tuple {t1} and {t2} are not equal\")"
   ]
  },
  {
   "cell_type": "code",
   "execution_count": null,
   "id": "ec56f725-ec21-4b9e-9307-fec0c382f7f4",
   "metadata": {},
   "outputs": [],
   "source": [
    "#27\n",
    "tup=(1,2,3,4,5,4,3,2,1)\n",
    "print(sorted(tup))"
   ]
  },
  {
   "cell_type": "code",
   "execution_count": null,
   "id": "357c76db-a223-4af0-9025-1e80bbf6e6a7",
   "metadata": {},
   "outputs": [],
   "source": [
    "#28\n",
    "tup=(1,2,3,4,5)\n",
    "t=()\n",
    "for i in tup:\n",
    "    t+=tuple(str(i))\n",
    "print(t)"
   ]
  },
  {
   "cell_type": "code",
   "execution_count": null,
   "id": "4ab78dd3-cf56-4214-a372-0d054a7ab999",
   "metadata": {},
   "outputs": [],
   "source": [
    "#29\n",
    "tup=('1','2','3','4','5')\n",
    "tuple=tuple(int(i) for i in tup)\n",
    "print(tuple)"
   ]
  },
  {
   "cell_type": "code",
   "execution_count": null,
   "id": "ab38ef58-e64d-4f99-bfb2-d578e06a3e38",
   "metadata": {},
   "outputs": [],
   "source": [
    "#30\n",
    "t1=(1,2,3,4,5)\n",
    "t2=(6,7,8,9)\n",
    "t1+=t2\n",
    "print(t1)"
   ]
  },
  {
   "cell_type": "code",
   "execution_count": null,
   "id": "19e403fd-1af0-4691-8b49-7fae0b3f2df7",
   "metadata": {},
   "outputs": [],
   "source": [
    "#31\n",
    "t=((1,2,3,4),(5,6,7),(8,9,10))\n",
    "tuple=tuple(j for i in t for j in i)\n",
    "print(tuple)"
   ]
  },
  {
   "cell_type": "code",
   "execution_count": null,
   "id": "4c746c97-72ad-4f6b-abd0-c3806c8eebd2",
   "metadata": {},
   "outputs": [],
   "source": [
    "#32\n",
    "def isprime(n):\n",
    "    count=0\n",
    "    for i in range(2,n):\n",
    "        if n%i==0:\n",
    "            count+=1\n",
    "    if count==0:\n",
    "        return True\n",
    "    else:\n",
    "        return False\n",
    "tup=tuple(i for i in range(2,100) if isprime(i))[:5]\n",
    "print(tup)"
   ]
  },
  {
   "cell_type": "code",
   "execution_count": null,
   "id": "df8d7e6d-73ec-4d58-9a93-fb444072361b",
   "metadata": {},
   "outputs": [],
   "source": [
    "#33\n",
    "def ispallindrome(tup):\n",
    "    count=0\n",
    "    for i in range(len(tup)):\n",
    "        if tup[i]==tup[-i-1]:\n",
    "            count+=1\n",
    "    if count==len(tup):\n",
    "        return True\n",
    "    else:\n",
    "        return False\n",
    "tup=(1,2,3,4,5,4,3,2,1)\n",
    "print(ispallindrome(tup))"
   ]
  },
  {
   "cell_type": "code",
   "execution_count": null,
   "id": "8bfe044f-a925-492e-94b9-3c53e644be3c",
   "metadata": {},
   "outputs": [],
   "source": [
    "#34\n",
    "tup=tuple(i**2 for i in range(1,6))\n",
    "print(tup)"
   ]
  },
  {
   "cell_type": "code",
   "execution_count": null,
   "id": "ecbf2c91-d346-4cab-a6bc-6221f079aad0",
   "metadata": {},
   "outputs": [],
   "source": [
    "#35\n",
    "t1=(1,2,3,4,5,6,7,8,9,10)\n",
    "t2=tuple(i for i in t1 if i%2!=0)\n",
    "print(t2)"
   ]
  },
  {
   "cell_type": "code",
   "execution_count": null,
   "id": "827f6528-2513-4108-a11c-a8cdb992cd1c",
   "metadata": {},
   "outputs": [],
   "source": [
    "#36\n",
    "t1=(1,2,3,4,5,6,7,8,9,10)\n",
    "t2=tuple(i*2 for i in t1)\n",
    "print(t2)"
   ]
  },
  {
   "cell_type": "code",
   "execution_count": null,
   "id": "a4a3372e-01b1-42ed-8f48-168ce951359e",
   "metadata": {},
   "outputs": [],
   "source": [
    "#38\n",
    "def issorted(tup):\n",
    "    if list(tup)==sorted(tup):\n",
    "        return True\n",
    "    else:\n",
    "        return False\n",
    "t1=(5,4,3,2,1)\n",
    "t2=(1,2,3,4,5)\n",
    "print(issorted(t1))\n",
    "print(issorted(t2))"
   ]
  },
  {
   "cell_type": "code",
   "execution_count": null,
   "id": "0c3f04d6-2a04-4f32-a7d5-cbb5d3fe1802",
   "metadata": {},
   "outputs": [],
   "source": [
    "#39\n",
    "def rotate_left(tup,n):\n",
    "    tup=list(tup)\n",
    "    n = n % len(tup)\n",
    "    l=tup[n:]+tup[:n]\n",
    "    return tuple(l)\n",
    "tup=(1,2,3,4,5,6,7,8,9,10)\n",
    "print(rotate_left(tup,4))"
   ]
  },
  {
   "cell_type": "code",
   "execution_count": null,
   "id": "f9671ede-fe2e-47f4-8ce7-659e1fe7b281",
   "metadata": {},
   "outputs": [],
   "source": [
    "#40\n",
    "def rotate_right(tup,n):\n",
    "    tup=list(tup)\n",
    "    n = n % len(tup)\n",
    "    l1=tup[-n:]+tup[:-n]\n",
    "    return l1\n",
    "tup=(1,2,3,4,5,6,7,8,9,10)\n",
    "print(rotate_right(tup,4))"
   ]
  },
  {
   "cell_type": "code",
   "execution_count": null,
   "id": "18ad09f5-4021-4023-9330-ccd15f5e48b5",
   "metadata": {},
   "outputs": [],
   "source": [
    "#41\n",
    "def fibonacci(n):\n",
    "    a=0\n",
    "    b=1\n",
    "    for i in range(n-1):\n",
    "        a,b=b,a+b\n",
    "    return a\n",
    "tup=tuple(fibonacci(i) for i in range(1,6))\n",
    "print(tup)"
   ]
  },
  {
   "cell_type": "code",
   "execution_count": null,
   "id": "c9848d90-ff2d-420e-9fd7-0919a9e10854",
   "metadata": {},
   "outputs": [],
   "source": [
    "#42\n",
    "tup=tuple()\n",
    "n=int(input(\"Enter the number of inputs you want to add to the tuple: \"))\n",
    "for i in range(n):\n",
    "    a=input(f\"Enter the {i+1} element of the tuple: \")\n",
    "    t=(a,)\n",
    "    tup+=t\n",
    "print(tup)"
   ]
  },
  {
   "cell_type": "code",
   "execution_count": null,
   "id": "19f17988-a481-47d4-b4f0-8034c9791bb0",
   "metadata": {},
   "outputs": [],
   "source": [
    "#43\n",
    "def swap(tup,a,b):\n",
    "    lst=list(tup)\n",
    "    lst[a],lst[b]=lst[b],lst[a]\n",
    "    tup=tuple(lst)\n",
    "    return tup\n",
    "print(swap((1,2,3,4,5),0,4))"
   ]
  },
  {
   "cell_type": "code",
   "execution_count": null,
   "id": "72214a63-c0aa-49ad-9e47-f6d10f041638",
   "metadata": {},
   "outputs": [],
   "source": [
    "#44\n",
    "def rev_tup(tup):\n",
    "    lst=list(tup)\n",
    "    lst.reverse()\n",
    "    t=tuple(lst)\n",
    "    return t\n",
    "print(rev_tup((5,4,3,2,1)))"
   ]
  },
  {
   "cell_type": "code",
   "execution_count": null,
   "id": "05b2a5cc-05ee-46a1-87c3-6ff44f035ce9",
   "metadata": {},
   "outputs": [],
   "source": [
    "#45\n",
    "n=int(input(\"Enter the number of powers you want to append in the tuple: \"))\n",
    "tup=tuple(2**i for i in range(1,n+1))\n",
    "print(tup)"
   ]
  },
  {
   "cell_type": "code",
   "execution_count": null,
   "id": "1ecb66a8-be03-4227-a596-7ad22b94414b",
   "metadata": {},
   "outputs": [],
   "source": [
    "#46\n",
    "def longest_in_tup(tup):\n",
    "    lst=list(tup)\n",
    "    l=[len(i) for i in lst]\n",
    "    for i in lst:\n",
    "        if len(i)==max(l):\n",
    "            print(i)\n",
    "longest_in_tup(('a','ba','c'))"
   ]
  },
  {
   "cell_type": "code",
   "execution_count": null,
   "id": "0c4dc0f8-dd31-4953-b04b-9b865c16a429",
   "metadata": {},
   "outputs": [],
   "source": [
    "#47\n",
    "def shortest_in_tup(tup):\n",
    "    lst=list(tup)\n",
    "    l=[len(i) for i in lst]\n",
    "    for i in lst:\n",
    "        if len(i)==min(l):\n",
    "            print(i)\n",
    "shortest_in_tup(('a','ba','c'))"
   ]
  },
  {
   "cell_type": "code",
   "execution_count": null,
   "id": "efaed7fa-70fb-4139-8fd1-53db27ddf1f2",
   "metadata": {},
   "outputs": [],
   "source": [
    "#49\n",
    "def check_tuple(tup):\n",
    "    a=tuple()\n",
    "    for i in tup:\n",
    "        if type(i)==type(a):\n",
    "            return True\n",
    "        return False\n",
    "t1=(1,2,3,4)\n",
    "t2=((1,2,3,4,5),2,3,4)\n",
    "print(check_tuple(t1))\n",
    "print(check_tuple(t2))"
   ]
  },
  {
   "cell_type": "code",
   "execution_count": null,
   "id": "842975ba-4ee9-4002-b9e5-4132cbefa9f2",
   "metadata": {},
   "outputs": [],
   "source": [
    "#50\n",
    "def tup(n):\n",
    "    lst=[]\n",
    "    for i in range(1,n+1):\n",
    "        if i%2==0:\n",
    "            lst.append(0)\n",
    "        else:\n",
    "            lst.append(1)\n",
    "    tup=tuple(lst)\n",
    "    return tup\n",
    "print(tup(11))"
   ]
  },
  {
   "cell_type": "code",
   "execution_count": null,
   "id": "8be3619e-b68a-48f9-a14c-cadb34e75c26",
   "metadata": {},
   "outputs": [],
   "source": [
    "#set"
   ]
  },
  {
   "cell_type": "code",
   "execution_count": null,
   "id": "b770638a-b580-4b36-a754-db33e5d11e1e",
   "metadata": {},
   "outputs": [],
   "source": [
    "#1\n",
    "s=set(i for i in range(1,6))\n",
    "print(s)"
   ]
  },
  {
   "cell_type": "code",
   "execution_count": null,
   "id": "6285ce2f-dd90-4ce9-b43d-4178eb783ab0",
   "metadata": {},
   "outputs": [],
   "source": [
    "#2\n",
    "s=set(i for i in range(1,6))\n",
    "s.add(6)\n",
    "print(s)"
   ]
  },
  {
   "cell_type": "code",
   "execution_count": null,
   "id": "7c2227cb-f166-4251-b7a9-0d1212df68ba",
   "metadata": {},
   "outputs": [],
   "source": [
    "#3\n",
    "s=set(i for i in range(1,6))\n",
    "s.remove(5)\n",
    "print(s)"
   ]
  },
  {
   "cell_type": "code",
   "execution_count": null,
   "id": "66ef2e6e-e6c1-4835-8246-0e2e429e7f12",
   "metadata": {},
   "outputs": [],
   "source": [
    "#4\n",
    "s=set(i for i in range(1,6))\n",
    "print(s)\n",
    "a=int(input(\"Enter the element you want to check in the set: \"))\n",
    "print(a)\n",
    "if a in s:\n",
    "    print(f\"The element {a} is present in the set\")\n",
    "else:\n",
    "    print(f\"The element {a} is not present in the set\")"
   ]
  },
  {
   "cell_type": "code",
   "execution_count": null,
   "id": "1a7ae14d-fcc8-4222-b217-1a6e29133310",
   "metadata": {},
   "outputs": [],
   "source": [
    "#5\n",
    "s={1,2,3,4,5,6,7,8,9,10}\n",
    "count=0\n",
    "for i in s:\n",
    "    count+=1\n",
    "print(f\"The length of the set is {count}\")"
   ]
  },
  {
   "cell_type": "code",
   "execution_count": null,
   "id": "82751bc9-f720-4eeb-8b87-7e17a917c694",
   "metadata": {},
   "outputs": [],
   "source": [
    "#6\n",
    "s={1,2,3,4,5}\n",
    "s.clear()\n",
    "print(s)"
   ]
  },
  {
   "cell_type": "code",
   "execution_count": null,
   "id": "cef3995f-9bf4-4cd8-bf44-a62426b11ee8",
   "metadata": {},
   "outputs": [],
   "source": [
    "#7\n",
    "s=set(i for i in range(1,11) if i%2==0)\n",
    "print(s)"
   ]
  },
  {
   "cell_type": "code",
   "execution_count": null,
   "id": "959550fd-22fc-49af-9d8e-03154d1a573b",
   "metadata": {},
   "outputs": [],
   "source": [
    "#8\n",
    "s=set(i for i in range(1,11) if i%2==1)\n",
    "print(s)"
   ]
  },
  {
   "cell_type": "code",
   "execution_count": null,
   "id": "a2226df7-9576-4aec-bc77-ca205fa81846",
   "metadata": {},
   "outputs": [],
   "source": [
    "#9\n",
    "s1={1,2,3,4,5}\n",
    "s2={4,5,6,7,8}\n",
    "s=s1.union(s2)\n",
    "print(s)"
   ]
  },
  {
   "cell_type": "code",
   "execution_count": null,
   "id": "2d445d00-60dc-4fef-9c24-94af12a6949f",
   "metadata": {},
   "outputs": [],
   "source": [
    "#10\n",
    "s1={1,2,3,4,5}\n",
    "s2={4,5,6,7,8}\n",
    "s=s1.intersection(s2)\n",
    "print(s)"
   ]
  },
  {
   "cell_type": "code",
   "execution_count": null,
   "id": "1579d45c-cd43-47d0-91d3-f7287bae77cd",
   "metadata": {},
   "outputs": [],
   "source": [
    "#11\n",
    "s1={1,2,3,4,5}\n",
    "s2={4,5,6,7,8}\n",
    "s=s1.difference(s2)\n",
    "print(s)"
   ]
  },
  {
   "cell_type": "code",
   "execution_count": null,
   "id": "c81e9f13-b5da-467a-8d6e-bf674be95d77",
   "metadata": {},
   "outputs": [],
   "source": [
    "#12\n",
    "s1={1,2,3,4,5,6,7,8,9,10}\n",
    "s2={4,5,6,7,8}\n",
    "s=s2.issubset(s1)\n",
    "print(s)"
   ]
  },
  {
   "cell_type": "code",
   "execution_count": null,
   "id": "bcad683d-fd65-446f-ae0a-d406fdfdb953",
   "metadata": {},
   "outputs": [],
   "source": [
    "#13\n",
    "s1={1,2,3,4,5,6,7,8,9,10}\n",
    "s2={4,5,6,7,8}\n",
    "s=s2.issubset(s1)\n",
    "if s:\n",
    "    print(f\"{s1} is the superset of {s2}\")\n",
    "else:\n",
    "    print(f\"{s1} is not the superset of {s2}\")"
   ]
  },
  {
   "cell_type": "code",
   "execution_count": null,
   "id": "b962d5a4-c18b-40ea-aa05-aa254ecb6432",
   "metadata": {},
   "outputs": [],
   "source": [
    "#14\n",
    "lst=[1,2,3,4,5,1,2,3,4]\n",
    "s=set(lst)\n",
    "print(s)"
   ]
  },
  {
   "cell_type": "code",
   "execution_count": null,
   "id": "d1ab10a3-da19-496c-b974-04485abbaf25",
   "metadata": {},
   "outputs": [],
   "source": [
    "#15\n",
    "s={1,2,3,4,5}\n",
    "lst=list(s)\n",
    "print(lst)"
   ]
  },
  {
   "cell_type": "code",
   "execution_count": null,
   "id": "8ebe25fb-90d0-4b95-9c00-ced9ba8f6e74",
   "metadata": {},
   "outputs": [],
   "source": [
    "#16\n",
    "s = {\"apple\", \"banana\", \"orange\", \"grape\", \"kiwi\"}\n",
    "print(\"Original set:\", s)\n",
    "\n",
    "removed_element = s.pop()\n",
    "\n",
    "print(f\"Removed element: {removed_element}\")\n",
    "print(\"Set after removal:\", s)"
   ]
  },
  {
   "cell_type": "code",
   "execution_count": null,
   "id": "22078434-3eac-4488-98bf-4e7706bb19cd",
   "metadata": {},
   "outputs": [],
   "source": [
    "#17\n",
    "s = {\"apple\", \"banana\", \"orange\", \"grape\", \"kiwi\"}\n",
    "print(\"Original set:\", s)\n",
    "\n",
    "removed_element = s.pop()\n",
    "\n",
    "print(f\"Removed element: {removed_element}\")\n",
    "print(\"Set after removal:\", s)"
   ]
  },
  {
   "cell_type": "code",
   "execution_count": null,
   "id": "336b0a14-3959-41cb-b97b-3001ca100884",
   "metadata": {},
   "outputs": [],
   "source": [
    "#18\n",
    "s1={1,2,3,4,5}\n",
    "s2={4,5,6,7,8}\n",
    "s=s1.intersection(s2)\n",
    "if len(s)==0:\n",
    "    print(f\"There are no elements in common\")\n",
    "else:\n",
    "    print(f\"There are some elements in common\")"
   ]
  },
  {
   "cell_type": "code",
   "execution_count": null,
   "id": "f9936f97-f544-4acb-993a-6468f4a11e79",
   "metadata": {},
   "outputs": [],
   "source": [
    "#19\n",
    "s1={1,2,3,4,5}\n",
    "s2={4,5,6,7,8}\n",
    "s=s1.symmetric_difference(s2)\n",
    "print(s)"
   ]
  },
  {
   "cell_type": "code",
   "execution_count": null,
   "id": "925afcc6-d87f-4622-8220-1cdd1b586416",
   "metadata": {},
   "outputs": [],
   "source": [
    "#20\n",
    "s1={1,2,3,4,5}\n",
    "s2={4,5,6,7,8}\n",
    "s1.update(s2)\n",
    "print(s1)"
   ]
  },
  {
   "cell_type": "code",
   "execution_count": null,
   "id": "25681c3e-52ca-4e65-b43c-5fae1e88b492",
   "metadata": {},
   "outputs": [],
   "source": [
    "#21\n",
    "def is_prime(n):\n",
    "    count=0\n",
    "    for i in range(2,n):\n",
    "        if i==1:\n",
    "            return False\n",
    "        elif n%i==0:\n",
    "            count+=1\n",
    "    if n==1:\n",
    "        return False\n",
    "    if count==0:\n",
    "        return True\n",
    "    return False\n",
    "print(is_prime(2))\n",
    "s=set()\n",
    "for i in range(2,100):\n",
    "    if is_prime(i):\n",
    "        s.add(i)\n",
    "    if len(s)==5:\n",
    "        break\n",
    "print(s)"
   ]
  },
  {
   "cell_type": "code",
   "execution_count": null,
   "id": "7e651304-fed0-4d40-a37f-59a9c6dcc7ba",
   "metadata": {},
   "outputs": [],
   "source": [
    "#22\n",
    "s1={1,2,3,4,5}\n",
    "s2={5,4,3,2,1}\n",
    "if s1==s2:\n",
    "    print(True)\n",
    "else:\n",
    "    print(False)"
   ]
  },
  {
   "cell_type": "code",
   "execution_count": null,
   "id": "c51f69e6-ab95-412f-bddc-b7369f26a7fe",
   "metadata": {},
   "outputs": [],
   "source": [
    "#23\n",
    "s=frozenset({1,2,3,4})\n",
    "print(s)"
   ]
  },
  {
   "cell_type": "code",
   "execution_count": null,
   "id": "d47a6d83-db04-42fc-98e9-1aaf7449e8da",
   "metadata": {},
   "outputs": [],
   "source": [
    "#24\n",
    "s1={1,2,3,4,5}\n",
    "s2={7,8,9,10}\n",
    "if s1.isdisjoint(s2):\n",
    "    print(\"The sets are disjoint.\")\n",
    "else:\n",
    "    print(\"The sets have common elements.\")"
   ]
  },
  {
   "cell_type": "code",
   "execution_count": null,
   "id": "1a15ced2-c459-42ad-a99c-892a5ddf5d72",
   "metadata": {},
   "outputs": [],
   "source": [
    "#25\n",
    "s=set(i**2 for i in range(1,6))\n",
    "print(s)"
   ]
  },
  {
   "cell_type": "code",
   "execution_count": null,
   "id": "181ce426-5b66-45b8-868a-e53d6a3fd4fb",
   "metadata": {},
   "outputs": [],
   "source": [
    "#26\n",
    "s1={1,2,3,4,5,6,7,8,9,10}\n",
    "s=set(i for i in s1 if i%2==0)\n",
    "print(s)"
   ]
  },
  {
   "cell_type": "code",
   "execution_count": null,
   "id": "f6e11af7-87b5-4a90-8749-5cfe5fa83f53",
   "metadata": {},
   "outputs": [],
   "source": [
    "#27\n",
    "s1={1,2,3,4,5,6,7,8,9,10}\n",
    "s=set(i*2 for i in s1)\n",
    "print(s)"
   ]
  },
  {
   "cell_type": "code",
   "execution_count": null,
   "id": "c3c9bcf7-3157-4bba-816b-f8af5ceae5cd",
   "metadata": {},
   "outputs": [],
   "source": [
    "#28\n",
    "import random\n",
    "a=set()\n",
    "for i in range(5):\n",
    "    a.add(random.randint(1,100))\n",
    "print(a)"
   ]
  },
  {
   "cell_type": "code",
   "execution_count": null,
   "id": "b7ac5be1-143b-4a14-9727-d11f919ca032",
   "metadata": {},
   "outputs": [],
   "source": [
    "#29\n",
    "def empty(set):\n",
    "    if len(set)==0:\n",
    "        print(\"The set is empty\")\n",
    "    else:\n",
    "        print(\"The set is not empty\")\n",
    "s=set()\n",
    "empty(s)"
   ]
  },
  {
   "cell_type": "code",
   "execution_count": null,
   "id": "a9105f26-24d8-473c-ba90-420f3be294c7",
   "metadata": {},
   "outputs": [],
   "source": [
    "#30\n",
    "s1=frozenset({1,2,3,4,5})\n",
    "s2=frozenset({2,3,4,5,6,7})\n",
    "s={s1,s2}\n",
    "print(s)"
   ]
  },
  {
   "cell_type": "code",
   "execution_count": null,
   "id": "2875cb4b-dec0-4851-8024-ed2d0d2c6127",
   "metadata": {},
   "outputs": [],
   "source": [
    "#31\n",
    "s={1,2,3,4,5}\n",
    "s.discard(2)\n",
    "print(s)"
   ]
  },
  {
   "cell_type": "code",
   "execution_count": null,
   "id": "4d9f430e-5ec8-42bc-9e35-2ac51091fa22",
   "metadata": {},
   "outputs": [],
   "source": [
    "#32\n",
    "s1={1,2,3,4,5}\n",
    "s2={4,5,6,7,8}\n",
    "print(f\"Set 1: {s1}\")\n",
    "print(f\"Set 2: {s2}\")\n",
    "print(f\"Is {s1} superset of {s2}? {s1.issuperset(s2)}\")\n",
    "print(f\"Is {s1} subset of {s2}? {s1.issubset(s2)}\")\n",
    "print(f\"The intersection of {s1} and {s2} is {s1.intersection(s2)}\")\n",
    "print(f\"The union of {s1} and {s2} is {s1.union(s2)}\")\n",
    "print(f\"The elements in {s1} but not in {s2} are {s1.difference(s2)}\")\n",
    "print(f\"The elements in {s2} but not in {s1} are {s2.difference(s1)}\")"
   ]
  },
  {
   "cell_type": "code",
   "execution_count": null,
   "id": "127077fb-3b1b-41fa-bdb2-55b6d4180ce5",
   "metadata": {},
   "outputs": [],
   "source": [
    "#33\n",
    "str=input(\"Enter a string:\")\n",
    "s=set(str)\n",
    "print(s)"
   ]
  },
  {
   "cell_type": "code",
   "execution_count": null,
   "id": "cabac777-5ad5-4692-99d3-d7d4297fefdb",
   "metadata": {},
   "outputs": [],
   "source": [
    "#34\n",
    "s1={'1','2','3','4','5'}\n",
    "s=set()\n",
    "for i in s1:\n",
    "    s.add(int(i))\n",
    "print(s)"
   ]
  },
  {
   "cell_type": "code",
   "execution_count": null,
   "id": "82f8be9a-e733-4088-aa03-e3b037b5eb66",
   "metadata": {},
   "outputs": [],
   "source": [
    "#35\n",
    "s1={1,2,3,4,5}\n",
    "s=set()\n",
    "for i in s1:\n",
    "    s.add(str(i))\n",
    "print(s)"
   ]
  },
  {
   "cell_type": "code",
   "execution_count": null,
   "id": "a0935b36-3809-40ec-b3e7-01eee2a7f1d1",
   "metadata": {},
   "outputs": [],
   "source": [
    "#36\n",
    "tup=(1,2,3,4,5,4,3,2,1)\n",
    "s=set(tup)\n",
    "print(s)"
   ]
  },
  {
   "cell_type": "code",
   "execution_count": null,
   "id": "b383de67-d7db-4f26-bb33-9038d8177c55",
   "metadata": {},
   "outputs": [],
   "source": [
    "#37\n",
    "s={1,2,3,4,5,4,3,2,1}\n",
    "tup=tuple(s)\n",
    "print(tup)"
   ]
  },
  {
   "cell_type": "code",
   "execution_count": null,
   "id": "c09959a1-bae1-46bb-8025-d484fe70e0dc",
   "metadata": {},
   "outputs": [],
   "source": [
    "#38\n",
    "s={1,2,3,4,5}\n",
    "print(max(s))"
   ]
  },
  {
   "cell_type": "code",
   "execution_count": null,
   "id": "bf6eeea9-87f8-4e68-a7a4-f4e3a2b3446c",
   "metadata": {},
   "outputs": [],
   "source": [
    "#39\n",
    "s={1,2,3,4,5}\n",
    "print(min(s))"
   ]
  },
  {
   "cell_type": "code",
   "execution_count": null,
   "id": "a951d33b-968c-4b33-995c-03a6e5abe3d3",
   "metadata": {},
   "outputs": [],
   "source": [
    "#40\n",
    "s=set()\n",
    "n=int(input(\"Enter the elements you want to add in the set:\"))\n",
    "for i in range(n):\n",
    "    a=int(input(\"Enter the element you want to add in the set:\"))\n",
    "    s.add(a)\n",
    "print(s)"
   ]
  },
  {
   "cell_type": "code",
   "execution_count": null,
   "id": "f68c1083-5249-4ac1-bc32-fad3072ed849",
   "metadata": {},
   "outputs": [],
   "source": [
    "#41\n",
    "s1={1,2,3,4,5}\n",
    "s2={5,6,7,8,9}\n",
    "if s1.isdisjoint(s2):\n",
    "    print(\"The intersection of two sets is empty\")\n",
    "else:\n",
    "    print(\"The intersection of two sets is not empty\")"
   ]
  },
  {
   "cell_type": "code",
   "execution_count": null,
   "id": "d360c3df-5377-42d0-b979-5045c79898c5",
   "metadata": {},
   "outputs": [],
   "source": [
    "#42\n",
    "def fibonacci(n):\n",
    "    a=0\n",
    "    b=1\n",
    "    for i in range(n-1):\n",
    "        if i==-1:\n",
    "            a=0\n",
    "        else:\n",
    "            a,b=b,a+b\n",
    "    return a\n",
    "s=set(fibonacci(i) for i in range(1,6))\n",
    "print(s)"
   ]
  },
  {
   "cell_type": "code",
   "execution_count": null,
   "id": "6ccffcba-7c50-404e-87eb-21579837b008",
   "metadata": {},
   "outputs": [],
   "source": [
    "#43\n",
    "l=[1,2,3,4,5,4,3,2,1]\n",
    "l2=list(set(l))\n",
    "print(l2)"
   ]
  },
  {
   "cell_type": "code",
   "execution_count": null,
   "id": "5eea81e7-5837-4b64-b26e-6a1bac36f9af",
   "metadata": {},
   "outputs": [],
   "source": [
    "#44\n",
    "set1 = {1,2,3,4,5,4,3,2,1}\n",
    "set2 = {5,4,3,2,1}\n",
    "\n",
    "if set1 == set2:\n",
    "    print(\"The sets have the same elements.\")\n",
    "else:\n",
    "    print(\"The sets do not have the same elements.\")"
   ]
  },
  {
   "cell_type": "code",
   "execution_count": null,
   "id": "b4f3f676-dd5b-467d-97ab-d69be14b476e",
   "metadata": {},
   "outputs": [],
   "source": [
    "#45\n",
    "n=int(input(\"Enter the number of terms you want to add in the set:\"))\n",
    "s={2**i for i in range(1,n+1)}\n",
    "print(s)"
   ]
  },
  {
   "cell_type": "code",
   "execution_count": null,
   "id": "6308b4d8-5243-4893-8692-7f9dc103f66a",
   "metadata": {},
   "outputs": [],
   "source": [
    "#46\n",
    "s={1,2,3,4,5}\n",
    "l=[5,6,7,8,5]\n",
    "print(f\"The common element in the set and the list is: {s.intersection(set(l))}\")"
   ]
  },
  {
   "cell_type": "code",
   "execution_count": null,
   "id": "9268f7f1-f015-4bd6-90cd-e3f771610d70",
   "metadata": {},
   "outputs": [],
   "source": [
    "#48\n",
    "s1={1,2,3,4,5,6,7,8,9,10}\n",
    "s2={4,5,6,7,8}\n",
    "s=s2.issubset(s1)\n",
    "print(s)"
   ]
  },
  {
   "cell_type": "code",
   "execution_count": null,
   "id": "b5f7e678-bbbf-46bd-b00d-23e42dbb7578",
   "metadata": {},
   "outputs": [],
   "source": [
    "#49\n",
    "n=int(input(\"Enter the number of alternating 1s and 0s you want to add to the set: \"))\n",
    "if n==1:\n",
    "    s={1}\n",
    "elif n==0:\n",
    "    s=set()\n",
    "else:\n",
    "    s1={1,0}\n",
    "    s=s1\n",
    "print(s)"
   ]
  },
  {
   "cell_type": "code",
   "execution_count": null,
   "id": "ebf76e8c-b4b4-4218-8b4b-d49efba4b73b",
   "metadata": {},
   "outputs": [],
   "source": [
    "#50\n",
    "s1={1,2,3,4}\n",
    "s2={4,5,6,7}\n",
    "s3={7,8,9,10}\n",
    "#s=s1.union(s2,s3)\n",
    "s=s1|s2|s3\n",
    "print(f\"The merged set is: {s}\")"
   ]
  }
 ],
 "metadata": {
  "kernelspec": {
   "display_name": "Python 3 (ipykernel)",
   "language": "python",
   "name": "python3"
  },
  "language_info": {
   "codemirror_mode": {
    "name": "ipython",
    "version": 3
   },
   "file_extension": ".py",
   "mimetype": "text/x-python",
   "name": "python",
   "nbconvert_exporter": "python",
   "pygments_lexer": "ipython3",
   "version": "3.10.8"
  }
 },
 "nbformat": 4,
 "nbformat_minor": 5
}
